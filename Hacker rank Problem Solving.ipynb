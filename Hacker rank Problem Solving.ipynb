{
 "cells": [
  {
   "cell_type": "markdown",
   "id": "cbcf0a7e-c1e6-4121-8224-f2125c2b46e3",
   "metadata": {},
   "source": [
    "# Solve Me First"
   ]
  },
  {
   "cell_type": "raw",
   "id": "d06e4866-d773-4056-ac74-434608773cdf",
   "metadata": {},
   "source": [
    "Complete the function solveMeFirst to compute the sum of two integers.\n",
    "\n",
    "Example\n",
    "\n",
    "\n",
    "Return .\n",
    "\n",
    "Function Description\n",
    "\n",
    "Complete the solveMeFirst function in the editor below.\n",
    "\n",
    "solveMeFirst has the following parameters:\n",
    "\n",
    "int a: the first value\n",
    "int b: the second value\n",
    "Returns\n",
    "- int: the sum of  and \n",
    "\n",
    "Constraints\n",
    "\n",
    "\n",
    "Sample Input\n",
    "\n",
    "a = 2\n",
    "b = 3\n",
    "Sample Output\n",
    "\n",
    "5\n",
    "Explanation\n",
    "\n",
    "."
   ]
  },
  {
   "cell_type": "code",
   "execution_count": null,
   "id": "8dc5fc2a-1f2b-43d5-a94c-11be61c1cd36",
   "metadata": {},
   "outputs": [],
   "source": [
    "\n",
    "\n",
    "def solveMeFirst(a,b):\n",
    "\t# Hint: Type return a+b below\n",
    "    return a + b\n",
    "    \n",
    "\n",
    "\n",
    "num1 = int(input())\n",
    "num2 = int(input())\n",
    "res = solveMeFirst(num1,num2)\n",
    "print(res)\n"
   ]
  },
  {
   "cell_type": "markdown",
   "id": "28a63deb-461d-4fd0-bddf-9de08373bab4",
   "metadata": {},
   "source": [
    "# Simple Array Sum"
   ]
  },
  {
   "cell_type": "code",
   "execution_count": null,
   "id": "784346a8-054a-4881-8923-514347b97ce1",
   "metadata": {},
   "outputs": [],
   "source": [
    "Given an array of integers, find the sum of its elements.\n",
    "\n",
    "For example, if the array , , so return .\n",
    "\n",
    "Function Description\n",
    "\n",
    "Complete the simpleArraySum function in the editor below. It must return the sum of the array elements as an integer.\n",
    "\n",
    "simpleArraySum has the following parameter(s):\n",
    "\n",
    "ar: an array of integers\n",
    "Input Format\n",
    "\n",
    "The first line contains an integer, , denoting the size of the array.\n",
    "The second line contains  space-separated integers representing the array's elements.\n",
    "\n",
    "Constraints\n",
    "\n",
    "\n",
    "Output Format\n",
    "\n",
    "Print the sum of the array's elements as a single integer.\n",
    "\n",
    "Sample Input\n",
    "\n",
    "6\n",
    "1 2 3 4 10 11\n",
    "Sample Output\n",
    "\n",
    "31\n",
    "Explanation\n",
    "\n",
    "We print the sum of the array's elements: ."
   ]
  },
  {
   "cell_type": "code",
   "execution_count": null,
   "id": "275b89b0-125f-420f-9ee0-46bd36054fe6",
   "metadata": {},
   "outputs": [],
   "source": [
    "#!/bin/python3\n",
    "\n",
    "import math\n",
    "import os\n",
    "import random\n",
    "import re\n",
    "import sys\n",
    "\n",
    "#\n",
    "# Complete the 'simpleArraySum' function below.\n",
    "#\n",
    "# The function is expected to return an INTEGER.\n",
    "# The function accepts INTEGER_ARRAY ar as parameter.\n",
    "#\n",
    "\n",
    "def simpleArraySum(ar):\n",
    "    # Write your code here\n",
    "    sum = 0\n",
    "    [sum := sum + i for i in ar]\n",
    "    return sum\n",
    "        \n",
    "\n",
    "if __name__ == '__main__':\n",
    "    fptr = open(os.environ['OUTPUT_PATH'], 'w')\n",
    "\n",
    "    ar_count = int(input().strip())\n",
    "\n",
    "    ar = list(map(int, input().rstrip().split()))\n",
    "\n",
    "    result = simpleArraySum(ar)\n",
    "\n",
    "    fptr.write(str(result) + '\\n')\n",
    "\n",
    "    fptr.close()\n"
   ]
  }
 ],
 "metadata": {
  "kernelspec": {
   "display_name": "Python 3 (ipykernel)",
   "language": "python",
   "name": "python3"
  },
  "language_info": {
   "codemirror_mode": {
    "name": "ipython",
    "version": 3
   },
   "file_extension": ".py",
   "mimetype": "text/x-python",
   "name": "python",
   "nbconvert_exporter": "python",
   "pygments_lexer": "ipython3",
   "version": "3.11.7"
  },
  "widgets": {
   "application/vnd.jupyter.widget-state+json": {
    "state": {},
    "version_major": 2,
    "version_minor": 0
   }
  }
 },
 "nbformat": 4,
 "nbformat_minor": 5
}
