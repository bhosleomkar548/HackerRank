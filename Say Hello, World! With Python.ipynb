{
 "cells": [
  {
   "cell_type": "markdown",
   "id": "28a63deb-461d-4fd0-bddf-9de08373bab4",
   "metadata": {},
   "source": [
    "# Say \"Hello, World!\" With Python"
   ]
  },
  {
   "cell_type": "markdown",
   "id": "784346a8-054a-4881-8923-514347b97ce1",
   "metadata": {},
   "source": [
    "Here is a sample line of code that can be executed in Python:\n",
    "\n",
    "print(\"Hello, World!\")\n",
    "You can just as easily store a string as a variable and then print it to stdout:\n",
    "\n",
    "my_string = \"Hello, World!\"\n",
    "print(my_string)\n",
    "The above code will print Hello, World! on your screen. Try it yourself in the editor below!\n",
    "\n",
    "Input Format\n",
    "\n",
    "You do not need to read any input in this challenge.\n",
    "\n",
    "Output Format\n",
    "\n",
    "Print Hello, World! to stdout.\n",
    "\n",
    "Sample Output 0\n",
    "\n",
    "Hello, World!\n"
   ]
  },
  {
   "cell_type": "code",
   "execution_count": null,
   "id": "275b89b0-125f-420f-9ee0-46bd36054fe6",
   "metadata": {},
   "outputs": [],
   "source": [
    "print(\"Hello, World!\")"
   ]
  }
 ],
 "metadata": {
  "kernelspec": {
   "display_name": "Python 3 (ipykernel)",
   "language": "python",
   "name": "python3"
  },
  "language_info": {
   "codemirror_mode": {
    "name": "ipython",
    "version": 3
   },
   "file_extension": ".py",
   "mimetype": "text/x-python",
   "name": "python",
   "nbconvert_exporter": "python",
   "pygments_lexer": "ipython3",
   "version": "3.11.7"
  },
  "widgets": {
   "application/vnd.jupyter.widget-state+json": {
    "state": {},
    "version_major": 2,
    "version_minor": 0
   }
  }
 },
 "nbformat": 4,
 "nbformat_minor": 5
}
