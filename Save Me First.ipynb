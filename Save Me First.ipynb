{
 "cells": [
  {
   "cell_type": "markdown",
   "id": "cbcf0a7e-c1e6-4121-8224-f2125c2b46e3",
   "metadata": {},
   "source": [
    "# Solve Me First"
   ]
  },
  {
   "cell_type": "raw",
   "id": "d06e4866-d773-4056-ac74-434608773cdf",
   "metadata": {},
   "source": [
    "Complete the function solveMeFirst to compute the sum of two integers.\n",
    "\n",
    "Example\n",
    "\n",
    "\n",
    "Return .\n",
    "\n",
    "Function Description\n",
    "\n",
    "Complete the solveMeFirst function in the editor below.\n",
    "\n",
    "solveMeFirst has the following parameters:\n",
    "\n",
    "int a: the first value\n",
    "int b: the second value\n",
    "Returns\n",
    "- int: the sum of  and \n",
    "\n",
    "Constraints\n",
    "\n",
    "\n",
    "Sample Input\n",
    "\n",
    "a = 2\n",
    "b = 3\n",
    "Sample Output\n",
    "\n",
    "5\n",
    "Explanation\n",
    "\n",
    "."
   ]
  },
  {
   "cell_type": "code",
   "execution_count": null,
   "id": "8dc5fc2a-1f2b-43d5-a94c-11be61c1cd36",
   "metadata": {},
   "outputs": [],
   "source": [
    "\n",
    "\n",
    "def solveMeFirst(a,b):\n",
    "\t# Hint: Type return a+b below\n",
    "    return a + b\n",
    "    \n",
    "\n",
    "\n",
    "num1 = int(input())\n",
    "num2 = int(input())\n",
    "res = solveMeFirst(num1,num2)\n",
    "print(res)\n"
   ]
  }
 ],
 "metadata": {
  "kernelspec": {
   "display_name": "Python 3 (ipykernel)",
   "language": "python",
   "name": "python3"
  },
  "language_info": {
   "codemirror_mode": {
    "name": "ipython",
    "version": 3
   },
   "file_extension": ".py",
   "mimetype": "text/x-python",
   "name": "python",
   "nbconvert_exporter": "python",
   "pygments_lexer": "ipython3",
   "version": "3.11.7"
  },
  "widgets": {
   "application/vnd.jupyter.widget-state+json": {
    "state": {},
    "version_major": 2,
    "version_minor": 0
   }
  }
 },
 "nbformat": 4,
 "nbformat_minor": 5
}
